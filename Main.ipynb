{
 "cells": [
  {
   "cell_type": "code",
   "execution_count": 36,
   "metadata": {},
   "outputs": [],
   "source": [
    "class clashResolover:\n",
    "    def __init__(self, student_list, teacher, subject, json_struct):\n",
    "        self.student_list=student_list\n",
    "        self.teacher=teacher\n",
    "        self.subject=subject\n",
    "        self.json_struct=json_struct\n",
    "    \n",
    "    def clashHandler(self,sub,key):\n",
    "        subjectClashes=[] \n",
    "\n",
    "        for i in course_data:\n",
    "            if i!=sub:\n",
    "                if course_data[i]['slot']==course_data[sub]['slot']:\n",
    "                    if course_data[i]['_teacherID']==course_data[sub]['_teacherID']:\n",
    "                        subjectClashes.append(i)\n",
    "                        #print(i)\n",
    "                    else:\n",
    "                        for j in range(50):\n",
    "                            if course_data[i]['_studentEnrolled'][j]==course_data[sub]['_studentEnrolled'][j]:\n",
    "                                #print(i,course_data[i]['_studentEnrolled'][j])\n",
    "                                subjectClashes.append(i)\n",
    "                                #print(i)\n",
    "\n",
    "        return subjectClashes\n",
    "\n",
    "\n",
    "        "
   ]
  },
  {
   "cell_type": "code",
   "execution_count": 37,
   "metadata": {},
   "outputs": [
    {
     "data": {
      "text/plain": [
       "['CS402A', 'MG129A', 'CS120B', 'EE230C', 'CS542A']"
      ]
     },
     "execution_count": 37,
     "metadata": {},
     "output_type": "execute_result"
    }
   ],
   "source": [
    "c= clashResolover(s_id,t_id,sub_id,course_data)\n",
    "c.clashHandler('MG139B',keys)"
   ]
  },
  {
   "cell_type": "code",
   "execution_count": 17,
   "metadata": {},
   "outputs": [],
   "source": [
    "class Teacher:\n",
    "    def __init__(self, teacher_id, teacher_name, subject_taught):\n",
    "        self.teacher_id=teacher_id\n",
    "        self.teacher_name=teacher_name\n",
    "        self.subject_taught=subject_taught\n",
    "        "
   ]
  },
  {
   "cell_type": "code",
   "execution_count": 18,
   "metadata": {},
   "outputs": [],
   "source": [
    "from random import shuffle"
   ]
  },
  {
   "cell_type": "code",
   "execution_count": 19,
   "metadata": {},
   "outputs": [],
   "source": [
    "with open(\"teacher.txt\") as t:\n",
    "    t_id=t.read().splitlines()\n",
    "with open(\"student.txt\") as s:\n",
    "    s_id=s.read().splitlines()\n",
    "with open(\"slots.txt\") as sl:\n",
    "    sl_id=sl.read().splitlines()\n",
    "with open(\"subject.txt\") as sub:\n",
    "    sub_id=sub.read().splitlines()\n",
    "    \n",
    "keys=['_teacherID','_creditHours','_studentEnrolled','slot']"
   ]
  },
  {
   "cell_type": "code",
   "execution_count": 20,
   "metadata": {},
   "outputs": [
    {
     "name": "stdout",
     "output_type": "stream",
     "text": [
      "43\n"
     ]
    }
   ],
   "source": [
    "print(len(set(sub_id)))"
   ]
  },
  {
   "cell_type": "code",
   "execution_count": 21,
   "metadata": {},
   "outputs": [
    {
     "data": {
      "text/plain": [
       "50"
      ]
     },
     "execution_count": 21,
     "metadata": {},
     "output_type": "execute_result"
    }
   ],
   "source": [
    "Subjects={ \n",
    "    'ITC19A':{\n",
    "    '_teacherID':'T16687',\n",
    "    '_creditHours':3,\n",
    "    '_studentEnrolled':[\"16P-6068\",\"15P-6079\"],\n",
    "    'slot':'10-11'\n",
    "},\n",
    "    'English18A':{\n",
    "        '_teacherID':'T16687',\n",
    "    '_creditHours':3,\n",
    "    '_studentEnrolled':[\"16P-6068\",\"15P-6079\"]\n",
    "    \n",
    "    }\n",
    "\n",
    "}\n",
    "len(sub_id)"
   ]
  },
  {
   "cell_type": "code",
   "execution_count": 22,
   "metadata": {},
   "outputs": [],
   "source": [
    "def rand_students():\n",
    "    list_st=[]\n",
    "    x = [i for i in range(118)]\n",
    "    shuffle(x)\n",
    "    for i in range(50):\n",
    "        list_st.append(s_id[x[i]])\n",
    "    return list_st"
   ]
  },
  {
   "cell_type": "code",
   "execution_count": 23,
   "metadata": {},
   "outputs": [
    {
     "data": {
      "text/plain": [
       "43"
      ]
     },
     "execution_count": 23,
     "metadata": {},
     "output_type": "execute_result"
    }
   ],
   "source": [
    "course_data={ name:{ key:[] for key in keys} for name in sub_id}\n",
    "len(course_data)"
   ]
  },
  {
   "cell_type": "code",
   "execution_count": 24,
   "metadata": {
    "scrolled": true
   },
   "outputs": [],
   "source": [
    "def data_initialization():\n",
    "    j=0\n",
    "    k=len(sl_id)-1\n",
    "    for i in course_data:\n",
    "        course_data[i]['_creditHours']=3\n",
    "        course_data[i]['_teacherID']=t_id[j]\n",
    "        course_data[i]['slot']=sl_id[k]\n",
    "        course_data[i]['_studentEnrolled']=rand_students()\n",
    "        k=k-1\n",
    "        j=j+1"
   ]
  },
  {
   "cell_type": "code",
   "execution_count": 25,
   "metadata": {},
   "outputs": [],
   "source": [
    "\n",
    "keys.remove('_creditHours')\n",
    "keys.remove('slot')"
   ]
  },
  {
   "cell_type": "code",
   "execution_count": 26,
   "metadata": {},
   "outputs": [
    {
     "name": "stdout",
     "output_type": "stream",
     "text": [
      "43\n"
     ]
    }
   ],
   "source": [
    "'''for i in dic:\n",
    "    print(i)'''\n",
    "print(len(course_data))"
   ]
  },
  {
   "cell_type": "code",
   "execution_count": null,
   "metadata": {},
   "outputs": [],
   "source": []
  }
 ],
 "metadata": {
  "kernelspec": {
   "display_name": "Python 3",
   "language": "python",
   "name": "python3"
  },
  "language_info": {
   "codemirror_mode": {
    "name": "ipython",
    "version": 3
   },
   "file_extension": ".py",
   "mimetype": "text/x-python",
   "name": "python",
   "nbconvert_exporter": "python",
   "pygments_lexer": "ipython3",
   "version": "3.7.3"
  }
 },
 "nbformat": 4,
 "nbformat_minor": 2
}
