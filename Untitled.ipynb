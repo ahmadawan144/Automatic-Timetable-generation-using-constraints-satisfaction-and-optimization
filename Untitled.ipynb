{
 "cells": [
  {
   "cell_type": "code",
   "execution_count": 5,
   "metadata": {},
   "outputs": [],
   "source": [
    "import json"
   ]
  },
  {
   "cell_type": "code",
   "execution_count": 17,
   "metadata": {},
   "outputs": [],
   "source": [
    "with open('C:\\\\Users\\\\hp folio 9480m i7\\\\Documents\\\\Angular\\\\timeTable\\\\_project\\\\_data.json','r') as f:\n",
    "    x=f.read()\n",
    "    _dic=json.loads(x) \n",
    "    course_data=_dic"
   ]
  },
  {
   "cell_type": "code",
   "execution_count": 18,
   "metadata": {},
   "outputs": [],
   "source": [
    "courses=[]\n",
    "for i in _dic:\n",
    "    courses.append(i)"
   ]
  },
  {
   "cell_type": "code",
   "execution_count": 19,
   "metadata": {},
   "outputs": [],
   "source": [
    "    def clashHandler(sub):\n",
    "        subjectClashes=[] \n",
    "        \n",
    "        for i in course_data:\n",
    "            if i!=sub:\n",
    "                if course_data[i]['slot']==course_data[sub]['slot']:\n",
    "                    if course_data[i]['_teacherID']==course_data[sub]['_teacherID']:\n",
    "                        subjectClashes.append(i)\n",
    "                    else:\n",
    "                        for j in range(50):\n",
    "                            if course_data[i]['_studentEnrolled'][j]==course_data[sub]['_studentEnrolled'][j]:\n",
    "                                subjectClashes.append(i)\n",
    "\n",
    "        return list(set(subjectClashes))"
   ]
  },
  {
   "cell_type": "code",
   "execution_count": 20,
   "metadata": {},
   "outputs": [
    {
     "data": {
      "text/plain": [
       "['SS148A', 'CS410A', 'MG129A', 'EE230C', 'CS123B']"
      ]
     },
     "execution_count": 20,
     "metadata": {},
     "output_type": "execute_result"
    }
   ],
   "source": [
    "clashHandler(courses[1])"
   ]
  },
  {
   "cell_type": "code",
   "execution_count": 21,
   "metadata": {},
   "outputs": [
    {
     "data": {
      "text/plain": [
       "43"
      ]
     },
     "execution_count": 21,
     "metadata": {},
     "output_type": "execute_result"
    }
   ],
   "source": [
    "len(courses)"
   ]
  },
  {
   "cell_type": "code",
   "execution_count": 22,
   "metadata": {},
   "outputs": [],
   "source": [
    "import pandas as pd\n",
    "import re\n",
    "df = pd.read_excel('teacherInfo.xlsx')\n",
    "stf=pd.read_excel('studentList.xlsx')"
   ]
  },
  {
   "cell_type": "code",
   "execution_count": 25,
   "metadata": {},
   "outputs": [],
   "source": [
    "X=list(set(stf['RollNo']))"
   ]
  },
  {
   "cell_type": "code",
   "execution_count": 27,
   "metadata": {},
   "outputs": [],
   "source": [
    "st=[]\n",
    "for i in _dic:\n",
    "     for j in range(50):\n",
    "        st.append(course_data[i]['_studentEnrolled'][j])"
   ]
  },
  {
   "cell_type": "code",
   "execution_count": 79,
   "metadata": {},
   "outputs": [],
   "source": [
    "def cours(s):\n",
    "    sc=[]\n",
    "    for i in _dic:\n",
    "         for j in range(50):\n",
    "                if course_data[i]['_studentEnrolled'][j]==s:\n",
    "                    sc.append(i)\n",
    "    return sc"
   ]
  },
  {
   "cell_type": "code",
   "execution_count": 72,
   "metadata": {},
   "outputs": [],
   "source": [
    "X_s=list(set(st))"
   ]
  },
  {
   "cell_type": "code",
   "execution_count": 73,
   "metadata": {},
   "outputs": [
    {
     "data": {
      "text/plain": [
       "118"
      ]
     },
     "execution_count": 73,
     "metadata": {},
     "output_type": "execute_result"
    }
   ],
   "source": [
    "len(X_s)"
   ]
  },
  {
   "cell_type": "code",
   "execution_count": 74,
   "metadata": {},
   "outputs": [],
   "source": [
    "import numpy as np"
   ]
  },
  {
   "cell_type": "code",
   "execution_count": 75,
   "metadata": {},
   "outputs": [],
   "source": [
    "mat=[[i for i in X_s ]]"
   ]
  },
  {
   "cell_type": "code",
   "execution_count": 76,
   "metadata": {},
   "outputs": [],
   "source": [
    "Matrix = [[0 for i in range(7)] for y in X_s] "
   ]
  },
  {
   "cell_type": "code",
   "execution_count": 77,
   "metadata": {},
   "outputs": [],
   "source": [
    "for i in range(len(X_s)):\n",
    "    Matrix[i][0]=X_s[i]"
   ]
  },
  {
   "cell_type": "code",
   "execution_count": 82,
   "metadata": {},
   "outputs": [
    {
     "name": "stdout",
     "output_type": "stream",
     "text": [
      "{'SS128B', 'SS148B', 'CS542B', 'MG129A', 'CS120B', 'CS125B', 'CS542A', 'EE233B', 'CS402C', 'EE230C', 'CS123A', 'EE231A', 'CS420A', 'CS123B', 'CS122B', 'CS420B'}\n"
     ]
    }
   ],
   "source": [
    "print(set(cours('p156079')))"
   ]
  },
  {
   "cell_type": "code",
   "execution_count": null,
   "metadata": {},
   "outputs": [],
   "source": []
  }
 ],
 "metadata": {
  "kernelspec": {
   "display_name": "Python 3",
   "language": "python",
   "name": "python3"
  },
  "language_info": {
   "codemirror_mode": {
    "name": "ipython",
    "version": 3
   },
   "file_extension": ".py",
   "mimetype": "text/x-python",
   "name": "python",
   "nbconvert_exporter": "python",
   "pygments_lexer": "ipython3",
   "version": "3.7.3"
  }
 },
 "nbformat": 4,
 "nbformat_minor": 2
}
